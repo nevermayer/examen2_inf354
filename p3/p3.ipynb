{
 "cells": [
  {
   "cell_type": "code",
   "execution_count": 58,
   "metadata": {},
   "outputs": [
    {
     "data": {
      "text/plain": [
       "array([[ 0,  7,  9,  8, 20],\n",
       "       [ 7,  0, 10,  4, 11],\n",
       "       [ 9, 10,  0, 15,  5],\n",
       "       [ 8,  4, 15,  0, 17],\n",
       "       [20, 11,  5, 17,  0]])"
      ]
     },
     "execution_count": 58,
     "metadata": {},
     "output_type": "execute_result"
    }
   ],
   "source": [
    "import numpy as np\n",
    "grafo = np.loadtxt('distancias.csv', delimiter=';', dtype=int)\n",
    "\n",
    "# Número de nodos en el grafo\n",
    "num_nodos = len(grafo)\n",
    "grafo"
   ]
  },
  {
   "cell_type": "code",
   "execution_count": 65,
   "metadata": {},
   "outputs": [
    {
     "name": "stdout",
     "output_type": "stream",
     "text": [
      "Mejor ruta encontrada: [2, 4, 1, 3, 0]\n",
      "Distancia total: 37\n"
     ]
    }
   ],
   "source": [
    "import random\n",
    "\n",
    "def distancia(x, y, grafo):\n",
    "    return grafo[x][y]\n",
    "\n",
    "def tsp(grafo):\n",
    "    tamano_poblacion = 100\n",
    "    generaciones = 1000\n",
    "\n",
    "    poblacion = [[random.randint(0, len(grafo) - 1) for _ in range(len(grafo))] for _ in range(tamano_poblacion)]\n",
    "\n",
    "    for _ in range(generaciones):\n",
    "        # Seleccionar los individuos más aptos\n",
    "        seleccionados = seleccion(poblacion, grafo)\n",
    "\n",
    "        # Cruzar los individuos seleccionados\n",
    "        descendencia = cruce(seleccionados)\n",
    "\n",
    "        # Mutar los individuos\n",
    "        descendencia = mutar(descendencia)\n",
    "\n",
    "        # Reemplazar la población antigua por la nueva población\n",
    "        poblacion = descendencia\n",
    "\n",
    "    return poblacion[0]\n",
    "\n",
    "def seleccion(poblacion, grafo):\n",
    "    seleccionados = []\n",
    "    for _ in range(len(poblacion)):\n",
    "        i = random.randint(0, len(poblacion) - 1)\n",
    "        seleccionados.append((poblacion[i], evaluar_ruta(poblacion[i], grafo)))\n",
    "    \n",
    "    seleccionados.sort(key=lambda x: x[1])\n",
    "    seleccionados = [ind for ind, _ in seleccionados[:len(poblacion)]]\n",
    "    return seleccionados\n",
    "\n",
    "def evaluar_ruta(ruta, grafo):\n",
    "    distancia_total = 0\n",
    "    for i in range(len(ruta) - 1):\n",
    "        distancia_total += distancia(ruta[i], ruta[i + 1], grafo)\n",
    "    distancia_total += distancia(ruta[-1], ruta[0], grafo)  # Regresar al nodo inicial\n",
    "    return distancia_total\n",
    "\n",
    "def cruce(poblacion):\n",
    "    descendencia = []\n",
    "    for i in range(0, len(poblacion), 2):\n",
    "        padre1, padre2 = poblacion[i], poblacion[i + 1]\n",
    "        k = random.randint(1, max(len(padre1) - 2, 1))  # Asegurarse de que k sea al menos 1\n",
    "        hijo1 = padre1[:k] + [nodo for nodo in padre2 if nodo not in padre1[:k]]\n",
    "        hijo2 = padre2[:k] + [nodo for nodo in padre1 if nodo not in padre2[:k]]\n",
    "        descendencia.extend([hijo1, hijo2])\n",
    "    return descendencia\n",
    "\n",
    "def mutar(poblacion):\n",
    "    tasa_mutacion = 0.1\n",
    "    for i in range(len(poblacion)):\n",
    "        if random.random() < tasa_mutacion:\n",
    "            j, k = random.sample(range(len(poblacion[i])), 2)\n",
    "            poblacion[i][j], poblacion[i][k] = poblacion[i][k], poblacion[i][j]\n",
    "    return poblacion\n",
    "\n",
    "if __name__ == \"__main__\":\n",
    "    mejor_ruta = tsp(grafo)\n",
    "    print(\"Mejor ruta encontrada:\", mejor_ruta)\n",
    "    print(\"Distancia total:\", evaluar_ruta(mejor_ruta, grafo))"
   ]
  }
 ],
 "metadata": {
  "kernelspec": {
   "display_name": "Python 3",
   "language": "python",
   "name": "python3"
  },
  "language_info": {
   "codemirror_mode": {
    "name": "ipython",
    "version": 3
   },
   "file_extension": ".py",
   "mimetype": "text/x-python",
   "name": "python",
   "nbconvert_exporter": "python",
   "pygments_lexer": "ipython3",
   "version": "3.11.5"
  }
 },
 "nbformat": 4,
 "nbformat_minor": 2
}
