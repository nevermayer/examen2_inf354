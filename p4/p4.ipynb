{
 "cells": [
  {
   "cell_type": "code",
   "execution_count": 7,
   "metadata": {},
   "outputs": [
    {
     "data": {
      "text/plain": [
       "4"
      ]
     },
     "execution_count": 7,
     "metadata": {},
     "output_type": "execute_result"
    }
   ],
   "source": [
    "# Configurar grafo (matriz de distancias)\n",
    "grafo = [\n",
    "    [0, 9, 7, 8],\n",
    "    [9, 0, 10, 15],\n",
    "    [7, 10, 0, 4],\n",
    "    [8, 15, 4, 0]\n",
    "]\n",
    "\n",
    "# Número de nodos en el grafo\n",
    "num_nodos = len(grafo)\n",
    "num_nodos"
   ]
  },
  {
   "cell_type": "code",
   "execution_count": 24,
   "metadata": {},
   "outputs": [
    {
     "data": {
      "text/plain": [
       "array([[ 0,  7,  9,  8, 20],\n",
       "       [ 7,  0, 10,  4, 11],\n",
       "       [ 9, 10,  0, 15,  5],\n",
       "       [ 8,  4, 15,  0, 17],\n",
       "       [20, 11,  5, 17,  0]])"
      ]
     },
     "execution_count": 24,
     "metadata": {},
     "output_type": "execute_result"
    }
   ],
   "source": [
    "import numpy as np\n",
    "grafo = np.loadtxt('distancias.csv', delimiter=';', dtype=int)\n",
    "\n",
    "# Número de nodos en el grafo\n",
    "num_nodos = len(grafo)\n",
    "grafo"
   ]
  },
  {
   "cell_type": "code",
   "execution_count": 31,
   "metadata": {},
   "outputs": [
    {
     "name": "stdout",
     "output_type": "stream",
     "text": [
      "Mejor recorrido encontrado: [0, 3, 1, 4, 2]\n",
      "Distancia del recorrido: 37\n"
     ]
    }
   ],
   "source": [
    "import random\n",
    "from deap import base, creator, tools, algorithms\n",
    "# Comprobar si la clase ya está definida\n",
    "if not hasattr(creator, \"FitnessMin\"):\n",
    "    # Crear tipos de individuo y población\n",
    "    creator.create(\"FitnessMin\", base.Fitness, weights=(-1.0,))\n",
    "    creator.create(\"Individual\", list, fitness=creator.FitnessMin)\n",
    "\n",
    "# Crear tipos de individuo y población\n",
    "creator.create(\"FitnessMin\", base.Fitness, weights=(-1.0,))\n",
    "creator.create(\"Individual\", list, fitness=creator.FitnessMin)\n",
    "\n",
    "# Función de evaluación (distancia total del recorrido)\n",
    "def eval_tsp(individual):\n",
    "    distance = 0\n",
    "    for i in range(len(individual) - 1):\n",
    "        distance += grafo[individual[i]][individual[i + 1]]\n",
    "    distance += grafo[individual[-1]][individual[0]]  # Regresar al nodo inicial\n",
    "    return distance,\n",
    "\n",
    "# Configurar la Toolbox de DEAP\n",
    "toolbox = base.Toolbox()\n",
    "toolbox.register(\"indices\", random.sample, range(num_nodos), num_nodos)\n",
    "toolbox.register(\"individual\", tools.initIterate, creator.Individual, toolbox.indices)\n",
    "toolbox.register(\"population\", tools.initRepeat, list, toolbox.individual)\n",
    "toolbox.register(\"evaluate\", eval_tsp)\n",
    "toolbox.register(\"mate\", tools.cxOrdered)\n",
    "toolbox.register(\"mutate\", tools.mutShuffleIndexes, indpb=0.05)\n",
    "toolbox.register(\"select\", tools.selTournament, tournsize=3)\n",
    "\n",
    "\n",
    "\n",
    "# Configurar tamaño de la población y número de generaciones\n",
    "tamano_poblacion = 50\n",
    "num_generaciones = 100\n",
    "\n",
    "# Crear población inicial\n",
    "poblacion = toolbox.population(n=tamano_poblacion)\n",
    "\n",
    "# Ejecutar algoritmo genético\n",
    "algoritmo_genetico = algorithms.eaSimple(poblacion, toolbox, cxpb=0.7, mutpb=0.2, ngen=num_generaciones, stats=None, halloffame=None, verbose=False)\n",
    "\n",
    "# Obtener el mejor individuo\n",
    "mejor_individuo = tools.selBest(poblacion, 1)[0]\n",
    "\n",
    "# Imprimir el mejor recorrido\n",
    "print(\"Mejor recorrido encontrado:\", mejor_individuo)\n",
    "print(\"Distancia del recorrido:\", eval_tsp(mejor_individuo)[0])\n"
   ]
  }
 ],
 "metadata": {
  "kernelspec": {
   "display_name": "Python 3",
   "language": "python",
   "name": "python3"
  },
  "language_info": {
   "codemirror_mode": {
    "name": "ipython",
    "version": 3
   },
   "file_extension": ".py",
   "mimetype": "text/x-python",
   "name": "python",
   "nbconvert_exporter": "python",
   "pygments_lexer": "ipython3",
   "version": "3.11.5"
  }
 },
 "nbformat": 4,
 "nbformat_minor": 2
}
